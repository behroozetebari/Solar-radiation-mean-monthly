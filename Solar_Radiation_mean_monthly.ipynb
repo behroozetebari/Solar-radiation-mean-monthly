{
 "cells": [
  {
   "cell_type": "markdown",
   "metadata": {},
   "source": [
    "# Solar Radiation mean monthly\n"
   ]
  },
  {
   "cell_type": "markdown",
   "metadata": {},
   "source": [
    "https://nsrdb.nrel.gov/"
   ]
  },
  {
   "cell_type": "markdown",
   "metadata": {},
   "source": [
    " Hello,\n",
    " I don't know what model you are using.\n",
    "# I am guessing you will need global horizontal irradiance (GHI).\n",
    "# Global Horizontal Irradiance (GHI); total solar radiation; the sum of Direct Normal Irradiance (DNI), Diffuse Horizontal Irradiance (DHI), and ground-reflected radiation; however, because ground-reflected radiation is usually insignificant compared to direct and diffuse, for all practical purposes global radiation is said to be the sum of direct and diffuse radiation only:\n",
    "# GHI = DHI + DNI * cos (Z)\n",
    "# where\n",
    "# Z is the solar zenith angle.\n",
    "# Direct Normal Irradiance (DNI) — Synonym for beam radiation, the amount of solar radiation from the direction of the sun.\n",
    "# Diffuse Horizontal Irradiance (DHI)— The radiation component that strikes a point from the sky, excluding circumsolar radiation. In the absence of atmosphere, there should be almost no diffuse sky radiation. High values are produced by an unclear atmosphere or reflections from clouds.\n",
    " Hope this helps.\n",
    " Thanks,\n",
    "Aron Habte\n",
    "Sensing and Predictive Analytics Group\n",
    " Power Systems Engineering Center\n",
    "National Renewable Energy Laboratory (M/S SRRL)\n",
    "15013 Denver West Parkway , Golden, CO 80401\n",
    " Office: 303-384-6389 | Lab:303-384-6326 | Fax:303-384-6391"
   ]
  },
  {
   "cell_type": "code",
   "execution_count": 1,
   "metadata": {
    "scrolled": true
   },
   "outputs": [],
   "source": [
    "# %pylab inline\n",
    "import pandas as pd\n",
    "import numpy as np\n",
    "import matplotlib.pyplot as plt\n",
    "import seaborn as sns"
   ]
  },
  {
   "cell_type": "code",
   "execution_count": 9,
   "metadata": {
    "scrolled": false
   },
   "outputs": [
    {
     "name": "stdout",
     "output_type": "stream",
     "text": [
      "          Year         Month           Day           DHI           DNI  \\\n",
      "count  17520.0  17520.000000  17520.000000  17520.000000  17520.000000   \n",
      "mean    2018.0      6.526027     15.720548     51.832820    259.443721   \n",
      "std        0.0      3.447950      8.796498     74.323577    357.065712   \n",
      "min     2018.0      1.000000      1.000000      0.000000      0.000000   \n",
      "25%     2018.0      4.000000      8.000000      0.000000      0.000000   \n",
      "50%     2018.0      7.000000     16.000000      6.000000      0.000000   \n",
      "75%     2018.0     10.000000     23.000000     85.000000    584.250000   \n",
      "max     2018.0     12.000000     31.000000    458.000000   1019.000000   \n",
      "\n",
      "                GHI  \n",
      "count  17520.000000  \n",
      "mean     202.696119  \n",
      "std      293.742830  \n",
      "min        0.000000  \n",
      "25%        0.000000  \n",
      "50%        6.000000  \n",
      "75%      359.000000  \n",
      "max     1039.000000  \n"
     ]
    }
   ],
   "source": [
    "df_solrad = pd.read_csv(\"148240_39.97_-123.78_2018.csv\",usecols =['Year','Month','Day','DHI','DNI','GHI'],skiprows=2)\n",
    "# parse_dates=[\"Date\"]\n",
    "# df.replace(-999,np.nan,inplace=True)\n",
    "# df.set_index('Date',inplace=True)\n",
    "print(df_solrad.describe())"
   ]
  },
  {
   "cell_type": "code",
   "execution_count": 19,
   "metadata": {},
   "outputs": [
    {
     "data": {
      "image/png": "[encoded data removed]",
      "text/plain": [
       "<Figure size 864x432 with 1 Axes>"
      ]
     },
     "metadata": {
      "needs_background": "light"
     },
     "output_type": "display_data"
    }
   ],
   "source": [
    "fig, ax = plt.subplots()\n",
    "fig.set_size_inches((12,6))\n",
    "sns.boxplot(data=df_solrad,x='Month',y='GHI',ax=ax)\n",
    "plt.grid()\n",
    "plt.show()"
   ]
  },
  {
   "cell_type": "markdown",
   "metadata": {},
   "source": [
    "# Implement Pivot Tables"
   ]
  },
  {
   "cell_type": "markdown",
   "metadata": {},
   "source": [
    "I want to know the Mean of each column that recoreded for each month. \n",
    "So, from pandas, we'll call the pivot_table() method and set the following arguments:"
   ]
  },
  {
   "cell_type": "markdown",
   "metadata": {},
   "source": [
    "data to be our DataFrame df_flights\n",
    "index to be 'year' since that's the column from df_flights that we want to appear as a unique value in each row\n",
    "values as 'passengers' since that's the column we want to apply some aggregate operation on\n",
    "aggfunc to 'sum' since we want to sum (aka total) up all values in passengers that belong to a unique year"
   ]
  },
  {
   "cell_type": "code",
   "execution_count": 13,
   "metadata": {},
   "outputs": [
    {
     "data": {
      "text/html": [
       "<div>\n",
       "<style scoped>\n",
       "    .dataframe tbody tr th:only-of-type {\n",
       "        vertical-align: middle;\n",
       "    }\n",
       "\n",
       "    .dataframe tbody tr th {\n",
       "        vertical-align: top;\n",
       "    }\n",
       "\n",
       "    .dataframe thead th {\n",
       "        text-align: right;\n",
       "    }\n",
       "</style>\n",
       "<table border=\"1\" class=\"dataframe\">\n",
       "  <thead>\n",
       "    <tr style=\"text-align: right;\">\n",
       "      <th></th>\n",
       "      <th>DHI</th>\n",
       "      <th>DNI</th>\n",
       "      <th>GHI</th>\n",
       "    </tr>\n",
       "    <tr>\n",
       "      <th>Month</th>\n",
       "      <th></th>\n",
       "      <th></th>\n",
       "      <th></th>\n",
       "    </tr>\n",
       "  </thead>\n",
       "  <tbody>\n",
       "    <tr>\n",
       "      <th>1</th>\n",
       "      <td>34.495968</td>\n",
       "      <td>76.987903</td>\n",
       "      <td>63.739919</td>\n",
       "    </tr>\n",
       "    <tr>\n",
       "      <th>2</th>\n",
       "      <td>37.921131</td>\n",
       "      <td>248.912202</td>\n",
       "      <td>147.744792</td>\n",
       "    </tr>\n",
       "    <tr>\n",
       "      <th>3</th>\n",
       "      <td>64.643145</td>\n",
       "      <td>157.288306</td>\n",
       "      <td>150.678763</td>\n",
       "    </tr>\n",
       "    <tr>\n",
       "      <th>4</th>\n",
       "      <td>73.904167</td>\n",
       "      <td>221.125000</td>\n",
       "      <td>213.257639</td>\n",
       "    </tr>\n",
       "    <tr>\n",
       "      <th>5</th>\n",
       "      <td>78.565860</td>\n",
       "      <td>299.345430</td>\n",
       "      <td>282.620968</td>\n",
       "    </tr>\n",
       "    <tr>\n",
       "      <th>6</th>\n",
       "      <td>54.944444</td>\n",
       "      <td>452.338889</td>\n",
       "      <td>360.260417</td>\n",
       "    </tr>\n",
       "    <tr>\n",
       "      <th>7</th>\n",
       "      <td>58.983871</td>\n",
       "      <td>424.262097</td>\n",
       "      <td>340.112903</td>\n",
       "    </tr>\n",
       "    <tr>\n",
       "      <th>8</th>\n",
       "      <td>72.983199</td>\n",
       "      <td>336.616263</td>\n",
       "      <td>293.254704</td>\n",
       "    </tr>\n",
       "    <tr>\n",
       "      <th>9</th>\n",
       "      <td>46.287500</td>\n",
       "      <td>343.860417</td>\n",
       "      <td>244.562500</td>\n",
       "    </tr>\n",
       "    <tr>\n",
       "      <th>10</th>\n",
       "      <td>37.761425</td>\n",
       "      <td>266.596774</td>\n",
       "      <td>164.797715</td>\n",
       "    </tr>\n",
       "    <tr>\n",
       "      <th>11</th>\n",
       "      <td>31.630556</td>\n",
       "      <td>181.497917</td>\n",
       "      <td>104.365972</td>\n",
       "    </tr>\n",
       "    <tr>\n",
       "      <th>12</th>\n",
       "      <td>28.508065</td>\n",
       "      <td>108.669355</td>\n",
       "      <td>65.241263</td>\n",
       "    </tr>\n",
       "  </tbody>\n",
       "</table>\n",
       "</div>"
      ],
      "text/plain": [
       "             DHI         DNI         GHI\n",
       "Month                                   \n",
       "1      34.495968   76.987903   63.739919\n",
       "2      37.921131  248.912202  147.744792\n",
       "3      64.643145  157.288306  150.678763\n",
       "4      73.904167  221.125000  213.257639\n",
       "5      78.565860  299.345430  282.620968\n",
       "6      54.944444  452.338889  360.260417\n",
       "7      58.983871  424.262097  340.112903\n",
       "8      72.983199  336.616263  293.254704\n",
       "9      46.287500  343.860417  244.562500\n",
       "10     37.761425  266.596774  164.797715\n",
       "11     31.630556  181.497917  104.365972\n",
       "12     28.508065  108.669355   65.241263"
      ]
     },
     "execution_count": 13,
     "metadata": {},
     "output_type": "execute_result"
    }
   ],
   "source": [
    "df1= pd.pivot_table(data=df_solrad, index='Month', values=['DHI','DNI','GHI'], aggfunc='mean')\n",
    "df1"
   ]
  },
  {
   "cell_type": "code",
   "execution_count": null,
   "metadata": {
    "scrolled": false
   },
   "outputs": [],
   "source": [
    "results= df1\n",
    "results.to_csv(\"solrad_2018.csv\")"
   ]
  },
  {
   "cell_type": "code",
   "execution_count": null,
   "metadata": {},
   "outputs": [],
   "source": [
    "# Dear Behrooz,\n",
    "# You are welcome!\n",
    "# There are no many locations around US and beyond for ground measurement data.\n",
    "# However, please check the following links to see if they fit to your area of study….\n",
    "# Measurement and Instrumentation Data Center\n",
    "# https://midcdmz.nrel.gov/\n",
    "# Offers near real-time solar irradiance and meteorological data for several U.S. locations.\n",
    "# NOAA Surface Radiation Research Branch\n",
    "# http://www.srrb.noaa.gov/surfrad/index.html\n",
    "# https://www.esrl.noaa.gov/gmd/grad/solrad/index.html\n",
    "# Surface Radiation (SURFRAD) Network\n",
    "# University of Oregon Solar Radiation Monitoring Laboratory\n",
    "# http://solardat.uoregon.edu/\n",
    "# Operates solar radiation monitoring stations throughout the Pacific Northwest\n",
    "# Hope this helps.\n",
    "# Thanks,\n",
    "# Aron Habte"
   ]
  },
  {
   "cell_type": "code",
   "execution_count": null,
   "metadata": {},
   "outputs": [],
   "source": []
  }
 ],
 "metadata": {
  "kernelspec": {
   "display_name": "Python 3",
   "language": "python",
   "name": "python3"
  },
  "language_info": {
   "codemirror_mode": {
    "name": "ipython",
    "version": 3
   },
   "file_extension": ".py",
   "mimetype": "text/x-python",
   "name": "python",
   "nbconvert_exporter": "python",
   "pygments_lexer": "ipython3",
   "version": "3.7.1"
  }
 },
 "nbformat": 4,
 "nbformat_minor": 4
}
